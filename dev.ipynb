{
 "cells": [
  {
   "cell_type": "code",
   "execution_count": 3,
   "metadata": {},
   "outputs": [
    {
     "name": "stdout",
     "output_type": "stream",
     "text": [
      "--2023-11-13 09:54:24--  https://raw.githubusercontent.com/karpathy/char-rnn/master/data/tinyshakespeare/input.txt\n",
      "Resolving raw.githubusercontent.com (raw.githubusercontent.com)... 185.199.108.133, 185.199.110.133, 185.199.109.133, ...\n",
      "Connecting to raw.githubusercontent.com (raw.githubusercontent.com)|185.199.108.133|:443... connected.\n",
      "HTTP request sent, awaiting response... "
     ]
    },
    {
     "name": "stdout",
     "output_type": "stream",
     "text": [
      "200 OK\n",
      "Length: 1115394 (1.1M) [text/plain]\n",
      "Saving to: ‘input.txt.1’\n",
      "\n",
      "input.txt.1         100%[===================>]   1.06M  --.-KB/s    in 0.1s    \n",
      "\n",
      "2023-11-13 09:54:24 (7.28 MB/s) - ‘input.txt.1’ saved [1115394/1115394]\n",
      "\n"
     ]
    }
   ],
   "source": [
    "!wget https://raw.githubusercontent.com/karpathy/char-rnn/master/data/tinyshakespeare/input.txt"
   ]
  },
  {
   "cell_type": "code",
   "execution_count": 6,
   "metadata": {},
   "outputs": [],
   "source": [
    "# read it in to inspect it\n",
    "with open('recherche.txt', 'r', encoding='utf-8') as f:\n",
    "    text = f.read()"
   ]
  },
  {
   "cell_type": "code",
   "execution_count": 7,
   "metadata": {},
   "outputs": [],
   "source": [
    "import unidecode\n",
    "text = unidecode.unidecode(text)"
   ]
  },
  {
   "cell_type": "code",
   "execution_count": 8,
   "metadata": {},
   "outputs": [
    {
     "name": "stdout",
     "output_type": "stream",
     "text": [
      "length of dataset in characters:  1013777\n"
     ]
    }
   ],
   "source": [
    "print(\"length of dataset in characters: \", len(text))"
   ]
  },
  {
   "cell_type": "code",
   "execution_count": 9,
   "metadata": {},
   "outputs": [
    {
     "name": "stdout",
     "output_type": "stream",
     "text": [
      "\n",
      " !\"$%'()*,-./0123456789:;<>?ABCDEFGHIJKLMNOPQRSTUVWXYZabcdefghijklmnopqrstuvwxyz\n",
      "81\n"
     ]
    }
   ],
   "source": [
    "chars = sorted(list(set(text)))\n",
    "vocab_size = len(chars)\n",
    "print(''.join(chars))\n",
    "print(vocab_size)"
   ]
  },
  {
   "cell_type": "code",
   "execution_count": 10,
   "metadata": {},
   "outputs": [],
   "source": [
    "string_to_integer = {ch: i for i, ch in enumerate(chars)}\n",
    "integer_to_string = {i: ch for i, ch in enumerate(chars)}\n",
    "\n",
    "encode = lambda s: [string_to_integer[c] for c in s]\n",
    "decode = lambda l: ''.join([integer_to_string[i] for i in l])"
   ]
  },
  {
   "cell_type": "code",
   "execution_count": 11,
   "metadata": {},
   "outputs": [
    {
     "data": {
      "text/plain": [
       "tensor([40, 69, 68, 61, 74, 59, 67, 70, 73, 10,  1, 64, 59,  1, 67, 59,  1, 73,\n",
       "        75, 63, 73,  1, 57, 69, 75, 57, 62, 59,  1, 58, 59,  1, 56, 69, 68, 68,\n",
       "        59,  1, 62, 59, 75, 72, 59, 12,  1, 44, 55, 72, 60, 69, 63, 73, 10,  1,\n",
       "        55,  1, 70, 59, 63, 68, 59,  1, 67, 55,  0, 56, 69, 75, 61, 63, 59,  1,\n",
       "        59, 74, 59, 63, 68, 74, 59, 10,  1, 67, 59, 73,  1, 79, 59, 75, 78,  1,\n",
       "        73, 59,  1, 60, 59, 72, 67, 55, 63, 59])"
      ]
     },
     "execution_count": 11,
     "metadata": {},
     "output_type": "execute_result"
    }
   ],
   "source": [
    "import torch\n",
    "data = torch.tensor(encode(text), dtype=int)\n",
    "\n",
    "data[:100]"
   ]
  },
  {
   "cell_type": "code",
   "execution_count": 14,
   "metadata": {},
   "outputs": [],
   "source": [
    "split = int(0.9*len(data))\n",
    "train_data = data[:split]\n",
    "val_data = data[split:]"
   ]
  },
  {
   "cell_type": "code",
   "execution_count": 15,
   "metadata": {},
   "outputs": [
    {
     "data": {
      "text/plain": [
       "tensor([40, 69, 68, 61, 74, 59, 67, 70, 73])"
      ]
     },
     "execution_count": 15,
     "metadata": {},
     "output_type": "execute_result"
    }
   ],
   "source": [
    "block_size = 8\n",
    "train_data[:block_size+1]"
   ]
  },
  {
   "cell_type": "code",
   "execution_count": 18,
   "metadata": {},
   "outputs": [
    {
     "name": "stdout",
     "output_type": "stream",
     "text": [
      "inputs\n",
      "torch.Size([4, 8])\n",
      "tensor([[66, 66, 59,  0, 72, 69, 75, 61],\n",
      "        [59, 59,  1, 58, 59,  1, 57, 62],\n",
      "        [63, 59, 72, 59,  1, 59, 74,  1],\n",
      "        [74, 75,  1, 58, 69, 63, 73,  1]])\n",
      "targets\n",
      "torch.Size([4, 8])\n",
      "tensor([[66, 59,  0, 72, 69, 75, 61, 59],\n",
      "        [59,  1, 58, 59,  1, 57, 62, 59],\n",
      "        [59, 72, 59,  1, 59, 74,  1, 70],\n",
      "        [75,  1, 58, 69, 63, 73,  1, 73]])\n"
     ]
    }
   ],
   "source": [
    "batch_size = 4\n",
    "block_size = 8\n",
    "\n",
    "def get_batch(split):\n",
    "    data = train_data if split == \"train\" else val_data\n",
    "    ix = torch.randint(len(data) - block_size, (batch_size,))\n",
    "    x = torch.stack([data[i:i+block_size] for i in ix])\n",
    "    y = torch.stack([data[i+1:i+block_size+1] for i in ix])\n",
    "    return x, y\n",
    "\n",
    "xb, yb = get_batch('train')\n",
    "print(\"inputs\")\n",
    "print(xb.shape)\n",
    "print(xb)\n",
    "print(\"targets\")\n",
    "print(yb.shape)\n",
    "print(yb)"
   ]
  },
  {
   "cell_type": "code",
   "execution_count": 31,
   "metadata": {},
   "outputs": [
    {
     "name": "stdout",
     "output_type": "stream",
     "text": [
      "torch.Size([32, 81])\n",
      "tensor(4.9435, grad_fn=<NllLossBackward0>)\n",
      "\n",
      "J8Q8'r:.XKXmMrRgXckeU)pDUkHO;u\"2QfrRaA73LVk?\"1Ef-oTcJ7\">6BBl2?AHyvSQMSX\n",
      "PaV1Q75d;<9s-tP\n",
      "f2:?FW;ERTVn4<9n)qB\"JEwUyPZ$b<vx>;FyJ$)d\n",
      "g>KXw5,ogQ;NayKclX)lCI6UZS\n",
      "LEWnl(phO4,;%Je:PlvxTt*d' \".mVyv)dI$sJDu1WCUzxZ2\"\"ofvOiD:/rI G02CIeT6Uvgtm:qCiG1pJmvxszjCp!7aEQ/.mK ME%PdaERrQP$koYN'oAs1/Bw.IBTIUT7qK5X33fEYc0XZKRmYRNSz>tS6.!O-AZ\"ff5aGf5<BPkgDJWY h?bY?XAZ08M9:(b7RzpigvOX. HjaERhwi8%EI08sdFCH:. 7-PV2V)dmsdmjr!;d/og8xJyAN6cW/8bBr;FC,TJO/PRWT()d1ykE/.!zq1;SAD,*xsff2YJCHfjXd!W;OrowH>-vuYHiADuaf3VSgjCgvx 08MRXdFWKJCLV?A%l3,Wnz/z.2WGgc)SrCJyKQ.,/>KSXs2PbZ SEW Aq G(S6.,CK1;%5d,1WSAyvSbe4(\n",
      "z\"JAS,owh\n",
      "0D\"6z/WKWy:vgDYW!9n).HhOX0TKR-gT7G3DgD6aNRTafqi4QHA>J>'W()p-)csu;-%Z(be5%e81gb08yNw.qQCI4\n",
      "z4aEU9p)8e2p(P\n",
      "rTC$daz<ofXEWh\n",
      "2.um!$(S3E;X)A!QuiPR-XQ)k,;R'x<%JL hR'B24QlX1Uk2P$)p)IP%9\"\n",
      "t3z?ePB5PKRw Dy:()7T,KiD3pX-)AEmIU!Eoff)o5,tZ1v*KLOgFa3pgIp*UF:XW:()FnbBQrxJw<hjCIayKPizcdk?8zeb2oTh\">mW93(\"bpJ!jlbgHDjbBWUqNBiyKJLRzq!FNA$)4b(szRaf!qt3P6TP!kkNt*/8gAZ.IBFd1M*q<3DQ;F/AmFWlh\n",
      "mXQrffwfda55a3CJdHkgfNu24U9!Us\"I65RxWn<Ci,q%\n"
     ]
    }
   ],
   "source": [
    "import torch\n",
    "import torch.nn as nn\n",
    "from torch.nn import functional as F\n",
    "\n",
    "class BigramLanguageModel(nn.Module):\n",
    "    def __init__(self, vocab_size):\n",
    "        super().__init__()\n",
    "        # each token reads off the logits from the next token from a lookup table\n",
    "        self.token_embedding_table = nn.Embedding(vocab_size, vocab_size)\n",
    "\n",
    "    def forward(self, idx, targets=None):\n",
    "        # idx and targets are both (B, T) tensors of integers\n",
    "        logits = self.token_embedding_table(idx) # (B, T, C) with T(time) = block size and C(channels) = vocab_size\n",
    "        if targets is None:\n",
    "            loss = None\n",
    "            \n",
    "        else:\n",
    "            B, T, C = logits.shape\n",
    "            logits = logits.view(B*T, C)\n",
    "            targets = targets.view(B*T)\n",
    "            loss = F.cross_entropy(logits, targets)\n",
    "\n",
    "        return logits, loss\n",
    "\n",
    "    def generate(self, idx, max_new_tokens):\n",
    "        # idx is (B, T) array of indices in the current context\n",
    "        for _ in range(max_new_tokens):\n",
    "            # get the predictions\n",
    "            logits, loss = self(idx)\n",
    "            # focus only on the last time step\n",
    "            logits = logits[:, -1, :] # becomes (B, C)\n",
    "            # apply softmax to get probabilities\n",
    "            probs = F.softmax(logits, dim=-1) # (B, C)\n",
    "            # sample from the distribution\n",
    "            idx_next = torch.multinomial(probs, num_samples=1)\n",
    "            # append sampled index to the running sequence\n",
    "            idx = torch.cat((idx, idx_next), dim=1) # (B, T+1)\n",
    "        return idx\n",
    "\n",
    "    \n",
    "m = BigramLanguageModel(vocab_size)\n",
    "logits, loss = m(xb, yb)\n",
    "print(logits.shape)\n",
    "print(loss)\n",
    "\n",
    "idx = torch.zeros((1, 1), dtype=torch.long) # 0 is newline character so every line starts with it\n",
    "print(decode(m.generate(idx, max_new_tokens=1000)[0].tolist()))"
   ]
  },
  {
   "cell_type": "code",
   "execution_count": 32,
   "metadata": {},
   "outputs": [],
   "source": [
    "# Create PyTorch optimizer\n",
    "optimizer = torch.optim.AdamW(m.parameters(), lr=1e-2)"
   ]
  },
  {
   "cell_type": "code",
   "execution_count": 37,
   "metadata": {},
   "outputs": [
    {
     "name": "stdout",
     "output_type": "stream",
     "text": [
      "2.361889600753784\n",
      "\n",
      "joundiouss Swalet anna iluris ennt ilecesan Fr qufaiomin, qu'havome\n",
      "ders a rt daitileereen one\n",
      "det c\n"
     ]
    }
   ],
   "source": [
    "batch_size = 32\n",
    "for steps in range(3000):\n",
    "    # sample a batch of data\n",
    "    xb, yb = get_batch('train')\n",
    "\n",
    "    # evaluate the loss\n",
    "    logits, loss = m(xb, yb)\n",
    "    optimizer.zero_grad(set_to_none=True)\n",
    "    loss.backward()\n",
    "    optimizer.step()\n",
    "\n",
    "print(loss.item())\n",
    "print(decode(m.generate(idx, max_new_tokens=100)[0].tolist()))"
   ]
  },
  {
   "cell_type": "markdown",
   "metadata": {},
   "source": [
    "### Mathematical trick in self-attention"
   ]
  },
  {
   "cell_type": "code",
   "execution_count": null,
   "metadata": {},
   "outputs": [],
   "source": [
    "# consider the following toy example\n",
    "torch.manual_seed(1337)\n",
    "B,T,C = 4, 8, 2 # batch, time channels\n",
    "x = torch.randn(B,T,C)\n",
    "x.shape"
   ]
  }
 ],
 "metadata": {
  "kernelspec": {
   "display_name": "ml",
   "language": "python",
   "name": "python3"
  },
  "language_info": {
   "codemirror_mode": {
    "name": "ipython",
    "version": 3
   },
   "file_extension": ".py",
   "mimetype": "text/x-python",
   "name": "python",
   "nbconvert_exporter": "python",
   "pygments_lexer": "ipython3",
   "version": "3.10.6"
  }
 },
 "nbformat": 4,
 "nbformat_minor": 2
}
